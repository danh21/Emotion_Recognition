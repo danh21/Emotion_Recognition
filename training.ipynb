{
 "cells": [
  {
   "cell_type": "code",
   "execution_count": 2,
   "metadata": {},
   "outputs": [
    {
     "name": "stdout",
     "output_type": "stream",
     "text": [
      "Found 28709 images belonging to 7 classes.\n",
      "Found 7178 images belonging to 7 classes.\n"
     ]
    }
   ],
   "source": [
    "from keras.models import Sequential\n",
    "from keras.layers import Dense, Dropout, Flatten\n",
    "from keras.layers import Conv2D\n",
    "from keras.optimizers import Adam\n",
    "from keras.layers import MaxPooling2D\n",
    "from keras.preprocessing.image import ImageDataGenerator\n",
    "import matplotlib.pyplot as plt\n",
    "train_dir = 'train'\n",
    "val_dir = 'test'\n",
    "train_datagen = ImageDataGenerator(rescale=1./255, horizontal_flip=True)\n",
    "val_datagen = ImageDataGenerator(rescale=1./255, horizontal_flip=True)\n",
    "train_generator = train_datagen.flow_from_directory(\n",
    "        train_dir,\n",
    "        target_size=(48,48),\n",
    "        batch_size=64,\n",
    "        color_mode=\"grayscale\",\n",
    "        class_mode='categorical')\n",
    "validation_generator = val_datagen.flow_from_directory(\n",
    "        val_dir,\n",
    "        target_size=(48,48),\n",
    "        batch_size=64,\n",
    "        color_mode=\"grayscale\",\n",
    "        class_mode='categorical')\n",
    "\n",
    "emotion_model = Sequential()\n",
    "emotion_model.add(Conv2D(32, kernel_size=(3, 3), activation='relu', input_shape=(48,48,1)))\n",
    "emotion_model.add(Conv2D(64, kernel_size=(3, 3), activation='relu'))\n",
    "emotion_model.add(MaxPooling2D(pool_size=(2, 2)))\n",
    "emotion_model.add(Dropout(0.25))\n",
    "emotion_model.add(Conv2D(128, kernel_size=(3, 3), activation='relu'))\n",
    "emotion_model.add(MaxPooling2D(pool_size=(2, 2)))\n",
    "emotion_model.add(Conv2D(128, kernel_size=(3, 3), activation='relu'))\n",
    "emotion_model.add(MaxPooling2D(pool_size=(2, 2)))\n",
    "emotion_model.add(Dropout(0.25))\n",
    "emotion_model.add(Flatten())\n",
    "emotion_model.add(Dense(1024, activation='relu'))\n",
    "emotion_model.add(Dropout(0.5))\n",
    "emotion_model.add(Dense(7, activation='softmax'))"
   ]
  },
  {
   "cell_type": "code",
   "execution_count": 3,
   "metadata": {},
   "outputs": [
    {
     "name": "stdout",
     "output_type": "stream",
     "text": [
      "Model: \"sequential\"\n",
      "_________________________________________________________________\n",
      " Layer (type)                Output Shape              Param #   \n",
      "=================================================================\n",
      " conv2d (Conv2D)             (None, 46, 46, 32)        320       \n",
      "                                                                 \n",
      " conv2d_1 (Conv2D)           (None, 44, 44, 64)        18496     \n",
      "                                                                 \n",
      " max_pooling2d (MaxPooling2D  (None, 22, 22, 64)       0         \n",
      " )                                                               \n",
      "                                                                 \n",
      " dropout (Dropout)           (None, 22, 22, 64)        0         \n",
      "                                                                 \n",
      " conv2d_2 (Conv2D)           (None, 20, 20, 128)       73856     \n",
      "                                                                 \n",
      " max_pooling2d_1 (MaxPooling  (None, 10, 10, 128)      0         \n",
      " 2D)                                                             \n",
      "                                                                 \n",
      " conv2d_3 (Conv2D)           (None, 8, 8, 128)         147584    \n",
      "                                                                 \n",
      " max_pooling2d_2 (MaxPooling  (None, 4, 4, 128)        0         \n",
      " 2D)                                                             \n",
      "                                                                 \n",
      " dropout_1 (Dropout)         (None, 4, 4, 128)         0         \n",
      "                                                                 \n",
      " flatten (Flatten)           (None, 2048)              0         \n",
      "                                                                 \n",
      " dense (Dense)               (None, 1024)              2098176   \n",
      "                                                                 \n",
      " dropout_2 (Dropout)         (None, 1024)              0         \n",
      "                                                                 \n",
      " dense_1 (Dense)             (None, 7)                 7175      \n",
      "                                                                 \n",
      "=================================================================\n",
      "Total params: 2,345,607\n",
      "Trainable params: 2,345,607\n",
      "Non-trainable params: 0\n",
      "_________________________________________________________________\n"
     ]
    }
   ],
   "source": [
    "emotion_model.summary()"
   ]
  },
  {
   "cell_type": "code",
   "execution_count": 2,
   "metadata": {},
   "outputs": [
    {
     "name": "stdout",
     "output_type": "stream",
     "text": [
      "Epoch 1/40\n",
      "448/448 [==============================] - 231s 515ms/step - loss: 1.7963 - accuracy: 0.2601 - val_loss: 1.7119 - val_accuracy: 0.3382\n",
      "Epoch 2/40\n",
      "448/448 [==============================] - 201s 448ms/step - loss: 1.6239 - accuracy: 0.3682 - val_loss: 1.5350 - val_accuracy: 0.4148\n",
      "Epoch 3/40\n",
      "448/448 [==============================] - 195s 435ms/step - loss: 1.5278 - accuracy: 0.4097 - val_loss: 1.4556 - val_accuracy: 0.4455\n",
      "Epoch 4/40\n",
      "448/448 [==============================] - 195s 436ms/step - loss: 1.4528 - accuracy: 0.4431 - val_loss: 1.3818 - val_accuracy: 0.4754\n",
      "Epoch 5/40\n",
      "448/448 [==============================] - 198s 443ms/step - loss: 1.3932 - accuracy: 0.4698 - val_loss: 1.3387 - val_accuracy: 0.4901\n",
      "Epoch 6/40\n",
      "448/448 [==============================] - 201s 449ms/step - loss: 1.3471 - accuracy: 0.4873 - val_loss: 1.3111 - val_accuracy: 0.5064\n",
      "Epoch 7/40\n",
      "448/448 [==============================] - 201s 449ms/step - loss: 1.3036 - accuracy: 0.5058 - val_loss: 1.2761 - val_accuracy: 0.5174\n",
      "Epoch 8/40\n",
      "448/448 [==============================] - 208s 465ms/step - loss: 1.2738 - accuracy: 0.5134 - val_loss: 1.2498 - val_accuracy: 0.5233\n",
      "Epoch 9/40\n",
      "448/448 [==============================] - 209s 466ms/step - loss: 1.2428 - accuracy: 0.5311 - val_loss: 1.2232 - val_accuracy: 0.5317\n",
      "Epoch 10/40\n",
      "448/448 [==============================] - 199s 445ms/step - loss: 1.2180 - accuracy: 0.5392 - val_loss: 1.1912 - val_accuracy: 0.5494\n",
      "Epoch 11/40\n",
      "448/448 [==============================] - 200s 446ms/step - loss: 1.1954 - accuracy: 0.5505 - val_loss: 1.1752 - val_accuracy: 0.5551\n",
      "Epoch 12/40\n",
      "448/448 [==============================] - 200s 446ms/step - loss: 1.1768 - accuracy: 0.5578 - val_loss: 1.1790 - val_accuracy: 0.5511\n",
      "Epoch 13/40\n",
      "448/448 [==============================] - 198s 443ms/step - loss: 1.1594 - accuracy: 0.5625 - val_loss: 1.1467 - val_accuracy: 0.5649\n",
      "Epoch 14/40\n",
      "448/448 [==============================] - 201s 448ms/step - loss: 1.1407 - accuracy: 0.5685 - val_loss: 1.1316 - val_accuracy: 0.5718\n",
      "Epoch 15/40\n",
      "448/448 [==============================] - 204s 455ms/step - loss: 1.1211 - accuracy: 0.5776 - val_loss: 1.1229 - val_accuracy: 0.5805\n",
      "Epoch 16/40\n",
      "448/448 [==============================] - 217s 485ms/step - loss: 1.1067 - accuracy: 0.5835 - val_loss: 1.1103 - val_accuracy: 0.5855\n",
      "Epoch 17/40\n",
      "448/448 [==============================] - 185s 412ms/step - loss: 1.0908 - accuracy: 0.5905 - val_loss: 1.1059 - val_accuracy: 0.5829\n",
      "Epoch 18/40\n",
      "448/448 [==============================] - 188s 419ms/step - loss: 1.0806 - accuracy: 0.5932 - val_loss: 1.1012 - val_accuracy: 0.5883\n",
      "Epoch 19/40\n",
      "448/448 [==============================] - 187s 417ms/step - loss: 1.0670 - accuracy: 0.5976 - val_loss: 1.0896 - val_accuracy: 0.5924\n",
      "Epoch 20/40\n",
      "448/448 [==============================] - 186s 415ms/step - loss: 1.0535 - accuracy: 0.6034 - val_loss: 1.0774 - val_accuracy: 0.5982\n",
      "Epoch 21/40\n",
      "448/448 [==============================] - 186s 416ms/step - loss: 1.0369 - accuracy: 0.6080 - val_loss: 1.0686 - val_accuracy: 0.6039\n",
      "Epoch 22/40\n",
      "448/448 [==============================] - 185s 412ms/step - loss: 1.0291 - accuracy: 0.6168 - val_loss: 1.0698 - val_accuracy: 0.5964\n",
      "Epoch 23/40\n",
      "448/448 [==============================] - 186s 414ms/step - loss: 1.0140 - accuracy: 0.6200 - val_loss: 1.0603 - val_accuracy: 0.6038\n",
      "Epoch 24/40\n",
      "448/448 [==============================] - 184s 411ms/step - loss: 1.0032 - accuracy: 0.6253 - val_loss: 1.0549 - val_accuracy: 0.6042\n",
      "Epoch 25/40\n",
      "448/448 [==============================] - 186s 415ms/step - loss: 0.9882 - accuracy: 0.6335 - val_loss: 1.0532 - val_accuracy: 0.6110\n",
      "Epoch 26/40\n",
      "448/448 [==============================] - 193s 430ms/step - loss: 0.9826 - accuracy: 0.6333 - val_loss: 1.0452 - val_accuracy: 0.6145\n",
      "Epoch 27/40\n",
      "448/448 [==============================] - 195s 435ms/step - loss: 0.9679 - accuracy: 0.6409 - val_loss: 1.0391 - val_accuracy: 0.6144\n",
      "Epoch 28/40\n",
      "448/448 [==============================] - 191s 425ms/step - loss: 0.9586 - accuracy: 0.6428 - val_loss: 1.0347 - val_accuracy: 0.6122\n",
      "Epoch 29/40\n",
      "448/448 [==============================] - 186s 414ms/step - loss: 0.9470 - accuracy: 0.6464 - val_loss: 1.0348 - val_accuracy: 0.6191\n",
      "Epoch 30/40\n",
      "448/448 [==============================] - 186s 415ms/step - loss: 0.9354 - accuracy: 0.6517 - val_loss: 1.0231 - val_accuracy: 0.6207\n",
      "Epoch 31/40\n",
      "448/448 [==============================] - 184s 410ms/step - loss: 0.9229 - accuracy: 0.6575 - val_loss: 1.0359 - val_accuracy: 0.6134\n",
      "Epoch 32/40\n",
      "448/448 [==============================] - 184s 412ms/step - loss: 0.9134 - accuracy: 0.6626 - val_loss: 1.0357 - val_accuracy: 0.6180\n",
      "Epoch 33/40\n",
      "448/448 [==============================] - 183s 409ms/step - loss: 0.8961 - accuracy: 0.6689 - val_loss: 1.0206 - val_accuracy: 0.6250\n",
      "Epoch 34/40\n",
      "448/448 [==============================] - 185s 413ms/step - loss: 0.8874 - accuracy: 0.6707 - val_loss: 1.0219 - val_accuracy: 0.6272\n",
      "Epoch 35/40\n",
      "448/448 [==============================] - 188s 421ms/step - loss: 0.8747 - accuracy: 0.6758 - val_loss: 1.0252 - val_accuracy: 0.6271\n",
      "Epoch 36/40\n",
      "448/448 [==============================] - 185s 413ms/step - loss: 0.8665 - accuracy: 0.6781 - val_loss: 1.0302 - val_accuracy: 0.6232\n",
      "Epoch 37/40\n",
      "448/448 [==============================] - 188s 420ms/step - loss: 0.8525 - accuracy: 0.6842 - val_loss: 1.0150 - val_accuracy: 0.6237\n",
      "Epoch 38/40\n",
      "448/448 [==============================] - 189s 422ms/step - loss: 0.8508 - accuracy: 0.6868 - val_loss: 1.0077 - val_accuracy: 0.6289\n",
      "Epoch 39/40\n",
      "448/448 [==============================] - 187s 417ms/step - loss: 0.8322 - accuracy: 0.6933 - val_loss: 1.0150 - val_accuracy: 0.6289\n",
      "Epoch 40/40\n",
      "448/448 [==============================] - 187s 417ms/step - loss: 0.8259 - accuracy: 0.6971 - val_loss: 1.0144 - val_accuracy: 0.6339\n"
     ]
    }
   ],
   "source": [
    "emotion_model.compile(loss='categorical_crossentropy',optimizer=Adam(learning_rate=0.0001, decay=1e-6),metrics=['accuracy']) \n",
    "history = emotion_model.fit(\n",
    "        train_generator,\n",
    "        steps_per_epoch=28709 // 64,\n",
    "        epochs=40,\n",
    "        validation_data=validation_generator,\n",
    "        validation_steps=7178 // 64,\n",
    "        shuffle=True,\n",
    "        )\n",
    "\n",
    "emotion_model.save_weights('model.h5')"
   ]
  },
  {
   "cell_type": "code",
   "execution_count": 6,
   "metadata": {},
   "outputs": [
    {
     "data": {
      "image/png": "[encoded data removed]",
      "text/plain": [
       "<Figure size 576x576 with 2 Axes>"
      ]
     },
     "metadata": {
      "needs_background": "light"
     },
     "output_type": "display_data"
    }
   ],
   "source": [
    "acc = history.history['accuracy']\n",
    "val_acc = history.history['val_accuracy']\n",
    "\n",
    "loss = history.history['loss']\n",
    "val_loss = history.history['val_loss']\n",
    "\n",
    "plt.figure(figsize=(8, 8))\n",
    "plt.subplot(2, 1, 1)\n",
    "plt.plot(acc, label='Training Accuracy')\n",
    "plt.plot(val_acc, label='Validation Accuracy')\n",
    "plt.legend(loc='lower right')\n",
    "plt.ylabel('Accuracy')\n",
    "plt.ylim([min(plt.ylim()),1])\n",
    "plt.title('Training and Validation Accuracy')\n",
    "\n",
    "plt.subplot(2, 1, 2)\n",
    "plt.plot(loss, label='Training Loss')\n",
    "plt.plot(val_loss, label='Validation Loss')\n",
    "plt.legend(loc='upper right')\n",
    "plt.ylabel('Cross Entropy')\n",
    "plt.ylim([0,2.0])\n",
    "plt.title('Training and Validation Loss')\n",
    "plt.xlabel('epoch')\n",
    "plt.show()"
   ]
  }
 ],
 "metadata": {
  "interpreter": {
   "hash": "369f2c481f4da34e4445cda3fffd2e751bd1c4d706f27375911949ba6bb62e1c"
  },
  "kernelspec": {
   "display_name": "Python 3.10.0 64-bit",
   "language": "python",
   "name": "python3"
  },
  "language_info": {
   "codemirror_mode": {
    "name": "ipython",
    "version": 3
   },
   "file_extension": ".py",
   "mimetype": "text/x-python",
   "name": "python",
   "nbconvert_exporter": "python",
   "pygments_lexer": "ipython3",
   "version": "3.10.0"
  },
  "orig_nbformat": 4
 },
 "nbformat": 4,
 "nbformat_minor": 2
}
